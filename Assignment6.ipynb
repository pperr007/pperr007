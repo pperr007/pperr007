{
  "nbformat": 4,
  "nbformat_minor": 0,
  "metadata": {
    "colab": {
      "provenance": [],
      "authorship_tag": "ABX9TyOeFgOVZlhWpKlkYmSZw4Zj",
      "include_colab_link": true
    },
    "kernelspec": {
      "name": "python3",
      "display_name": "Python 3"
    },
    "language_info": {
      "name": "python"
    }
  },
  "cells": [
    {
      "cell_type": "markdown",
      "metadata": {
        "id": "view-in-github",
        "colab_type": "text"
      },
      "source": [
        "<a href=\"https://colab.research.google.com/github/pperr007/pperr007/blob/main/Assignment6.ipynb\" target=\"_parent\"><img src=\"https://colab.research.google.com/assets/colab-badge.svg\" alt=\"Open In Colab\"/></a>"
      ]
    },
    {
      "cell_type": "code",
      "execution_count": null,
      "metadata": {
        "colab": {
          "base_uri": "https://localhost:8080/"
        },
        "id": "ETwXIkS6fqrg",
        "outputId": "8ff4b21f-caf1-48df-afdb-afcdac2f13c3"
      },
      "outputs": [
        {
          "output_type": "stream",
          "name": "stdout",
          "text": [
            "Is car == 'subaru'? I predict True.\n",
            "True\n",
            "\n",
            "Is car == 'audi'? I predict False.\n",
            "False\n"
          ]
        }
      ],
      "source": [
        "#example from 5-1\n",
        "car = 'subaru'\n",
        "print(\"Is car == 'subaru'? I predict True.\")\n",
        "print(car == 'subaru')\n",
        "print(\"\\nIs car == 'audi'? I predict False.\")\n",
        "print(car == 'audi')"
      ]
    },
    {
      "cell_type": "code",
      "source": [
        "# 5-1\n",
        "#each example has a true and false statement making it a total of 10\n",
        "#1\n",
        "movie = 'Star Wars'\n",
        "print(\"Is movie == 'Star Wars'? I predict True.\")\n",
        "print(movie == 'Star Wars')\n",
        "print(\"\\nIs movie == 'Star Trek'? I predict False.\")\n",
        "print(movie == 'Star Trek')\n",
        "\n",
        "#2\n",
        "plane = 'A-10 Warthog'\n",
        "print(\"\\nIs plane == 'A-10 Warthog'? I predict True.\")\n",
        "print(plane == 'A-10 Warthog')\n",
        "print(\"\\nIs plane == 'Cessna 130'? I predict False.\")\n",
        "print(plane == 'Cessna 130')\n",
        "\n",
        "#3\n",
        "video_games = 'HALO'\n",
        "print(\"\\nIs video_games == 'HALO'? I predict True.\")\n",
        "print(video_games == 'HALO')\n",
        "print(\"\\nIs video_games == 'Call of duty'? I predict False.\")\n",
        "print(video_games == 'Call of duty')\n",
        "\n",
        "#4\n",
        "artist = 'The Dead South'\n",
        "print(\"\\nIs favorite band == 'The Dead South'? I predict True.\")\n",
        "print(artist == 'The Dead South')\n",
        "print(\"\\nIs favorite band == 'Imagine Dragons'? I predict False.\")\n",
        "print(artist == 'Imagine Dragons')\n",
        "\n",
        "#5\n",
        "author = 'Joseph Delaney'\n",
        "print(\"\\nIs favorite author  == 'Joseph Delaney'? I predict True.\")\n",
        "print(author == 'Joseph Delaney')\n",
        "print(\"\\nIs favorite author  == 'Colleen Hoover'? I predict WRONG.\")\n",
        "print(author == 'Colleen Hoover')\n",
        "\n",
        "\n"
      ],
      "metadata": {
        "colab": {
          "base_uri": "https://localhost:8080/"
        },
        "id": "GzAVxGCRgm4a",
        "outputId": "8c23023e-fef4-4435-9226-3f6bdfa677f8"
      },
      "execution_count": null,
      "outputs": [
        {
          "output_type": "stream",
          "name": "stdout",
          "text": [
            "Is movie == 'Star Wars'? I predict True.\n",
            "True\n",
            "\n",
            "Is movie == 'Star Trek'? I predict False.\n",
            "False\n",
            "\n",
            "Is plane == 'A-10 Warthog'? I predict True.\n",
            "True\n",
            "\n",
            "Is plane == 'Cessna 130'? I predict False.\n",
            "False\n",
            "\n",
            "Is video_games == 'HALO'? I predict True.\n",
            "True\n",
            "\n",
            "Is video_games == 'Call of duty'? I predict False.\n",
            "False\n",
            "\n",
            "Is favorite band == 'The Dead South'? I predict True.\n",
            "True\n",
            "\n",
            "Is favorite band == 'Imagine Dragons'? I predict False.\n",
            "False\n",
            "\n",
            "Is favorite author  == 'Joseph Delaney'? I predict True.\n",
            "True\n",
            "\n",
            "Is favorite author  == 'Colleen Hoover'? I predict WRONG.\n",
            "False\n"
          ]
        }
      ]
    },
    {
      "cell_type": "code",
      "source": [
        "#5-2\n",
        "\n",
        "minecraft = 'steve'\n",
        "minecraft == 'steve'\n"
      ],
      "metadata": {
        "colab": {
          "base_uri": "https://localhost:8080/"
        },
        "id": "jeJZbKOPZ2mP",
        "outputId": "dd96a8b0-7236-480b-d146-9fbdc1b18739"
      },
      "execution_count": null,
      "outputs": [
        {
          "output_type": "execute_result",
          "data": {
            "text/plain": [
              "True"
            ]
          },
          "metadata": {},
          "execution_count": 20
        }
      ]
    },
    {
      "cell_type": "code",
      "source": [
        "#5-2\n",
        "shark = 'water'\n",
        "shark == 'fluid'"
      ],
      "metadata": {
        "colab": {
          "base_uri": "https://localhost:8080/"
        },
        "id": "2SIKHqXOa8e7",
        "outputId": "e2ea71fc-fc0b-41c5-ca0c-4bcb6bb485ea"
      },
      "execution_count": null,
      "outputs": [
        {
          "output_type": "execute_result",
          "data": {
            "text/plain": [
              "False"
            ]
          },
          "metadata": {},
          "execution_count": 22
        }
      ]
    },
    {
      "cell_type": "code",
      "source": [
        "#5-2\n",
        "Minecraft = 'STEVE'\n",
        "Minecraft.lower() == 'steve'"
      ],
      "metadata": {
        "colab": {
          "base_uri": "https://localhost:8080/"
        },
        "id": "pYBjalsfbBYL",
        "outputId": "46aca447-4430-4100-afd5-b70cef85e30c"
      },
      "execution_count": null,
      "outputs": [
        {
          "output_type": "execute_result",
          "data": {
            "text/plain": [
              "True"
            ]
          },
          "metadata": {},
          "execution_count": 25
        }
      ]
    },
    {
      "cell_type": "code",
      "source": [
        "#5-2\n",
        "assignments = 6\n",
        "assignments >3"
      ],
      "metadata": {
        "colab": {
          "base_uri": "https://localhost:8080/"
        },
        "id": "B2VQ0k06bc5a",
        "outputId": "3e720dd9-7274-46bb-b531-de5b2a8d62f7"
      },
      "execution_count": null,
      "outputs": [
        {
          "output_type": "execute_result",
          "data": {
            "text/plain": [
              "True"
            ]
          },
          "metadata": {},
          "execution_count": 26
        }
      ]
    },
    {
      "cell_type": "code",
      "source": [
        "#5-2\n",
        "assignments < 3"
      ],
      "metadata": {
        "colab": {
          "base_uri": "https://localhost:8080/"
        },
        "id": "9DdBYh0ZcFhf",
        "outputId": "e2def881-1372-4ad0-aa38-086fae2075f2"
      },
      "execution_count": null,
      "outputs": [
        {
          "output_type": "execute_result",
          "data": {
            "text/plain": [
              "False"
            ]
          },
          "metadata": {},
          "execution_count": 28
        }
      ]
    },
    {
      "cell_type": "code",
      "source": [
        "#5-2\n",
        "assignments = 6\n",
        "assignments >=15"
      ],
      "metadata": {
        "colab": {
          "base_uri": "https://localhost:8080/"
        },
        "id": "JKRog2bUcPpj",
        "outputId": "0339d849-d59a-4463-a873-b516b4b7d93e"
      },
      "execution_count": null,
      "outputs": [
        {
          "output_type": "execute_result",
          "data": {
            "text/plain": [
              "False"
            ]
          },
          "metadata": {},
          "execution_count": 30
        }
      ]
    },
    {
      "cell_type": "code",
      "source": [
        "#5-2\n",
        "assignments = 6\n",
        "assignments >=6"
      ],
      "metadata": {
        "colab": {
          "base_uri": "https://localhost:8080/"
        },
        "id": "BfgG7KzfcaKn",
        "outputId": "f8d60c9a-2ed7-4c76-a8e6-589ffca7f05b"
      },
      "execution_count": null,
      "outputs": [
        {
          "output_type": "execute_result",
          "data": {
            "text/plain": [
              "True"
            ]
          },
          "metadata": {},
          "execution_count": 32
        }
      ]
    },
    {
      "cell_type": "code",
      "source": [
        "#5-2\n",
        "flow_0 = 22\n",
        "flow_1 = 18\n",
        "flow_0 >= 21 or flow_1 >= 21"
      ],
      "metadata": {
        "colab": {
          "base_uri": "https://localhost:8080/"
        },
        "id": "cLp3nykEdHxj",
        "outputId": "4ccfa01f-4ae5-4b30-d1cc-59f87a701178"
      },
      "execution_count": null,
      "outputs": [
        {
          "output_type": "execute_result",
          "data": {
            "text/plain": [
              "True"
            ]
          },
          "metadata": {},
          "execution_count": 36
        }
      ]
    },
    {
      "cell_type": "code",
      "source": [
        "#5-2\n",
        "weird_brands = ['adidas', 'nike','and-1']\n",
        "brands = 'Nestle'\n",
        "if brands not in weird_brands:\n",
        "  print(f'{brands}, not known')"
      ],
      "metadata": {
        "colab": {
          "base_uri": "https://localhost:8080/"
        },
        "id": "pxbEyQvGe2et",
        "outputId": "bf2aa5a5-7f23-4ee7-e52b-2ba593b9a056"
      },
      "execution_count": null,
      "outputs": [
        {
          "output_type": "stream",
          "name": "stdout",
          "text": [
            "Nestle, not known\n"
          ]
        }
      ]
    },
    {
      "cell_type": "code",
      "source": [
        "#5-2\n",
        "phones = [\"Pixel\", \"samsung\", \"Motorola\"]\n",
        "\"Motorola\" in phones\n"
      ],
      "metadata": {
        "colab": {
          "base_uri": "https://localhost:8080/"
        },
        "id": "tEGlnOf2gGYw",
        "outputId": "f51059db-5e0c-4c83-f945-9e286e27c89a"
      },
      "execution_count": null,
      "outputs": [
        {
          "output_type": "execute_result",
          "data": {
            "text/plain": [
              "True"
            ]
          },
          "metadata": {},
          "execution_count": 43
        }
      ]
    },
    {
      "cell_type": "code",
      "source": [
        "#5-3\n",
        "\n",
        "alien_color = ['green','yellow','red']\n",
        "\n",
        "if 'green' in alien_color:\n",
        "  print('Good job guessing the color, you get five coins.')"
      ],
      "metadata": {
        "colab": {
          "base_uri": "https://localhost:8080/"
        },
        "id": "6mW7RnNAhv-C",
        "outputId": "6e314541-7430-469a-f8de-dff7a1bec910"
      },
      "execution_count": null,
      "outputs": [
        {
          "output_type": "stream",
          "name": "stdout",
          "text": [
            "Good job guessing the color, you get five coins.\n"
          ]
        }
      ]
    },
    {
      "cell_type": "code",
      "source": [
        "#5-3\n",
        "\n",
        "alien_color = ['green','yellow','red']\n",
        "\n",
        "if 'blue' in alien_color:\n",
        "  print('Good job guessing the color, you get five coins.')"
      ],
      "metadata": {
        "id": "FQSBpj9RjBqp"
      },
      "execution_count": null,
      "outputs": []
    }
  ]
}