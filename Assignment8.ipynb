{
  "nbformat": 4,
  "nbformat_minor": 0,
  "metadata": {
    "colab": {
      "provenance": [],
      "authorship_tag": "ABX9TyN6IY4ZN/0gQEMX7AXsXUoc",
      "include_colab_link": true
    },
    "kernelspec": {
      "name": "python3",
      "display_name": "Python 3"
    },
    "language_info": {
      "name": "python"
    }
  },
  "cells": [
    {
      "cell_type": "markdown",
      "metadata": {
        "id": "view-in-github",
        "colab_type": "text"
      },
      "source": [
        "<a href=\"https://colab.research.google.com/github/pperr007/pperr007/blob/main/Assignment8.ipynb\" target=\"_parent\"><img src=\"https://colab.research.google.com/assets/colab-badge.svg\" alt=\"Open In Colab\"/></a>"
      ]
    },
    {
      "cell_type": "markdown",
      "source": [
        "#assignment 8 chapter 8\n",
        "-CSC221A"
      ],
      "metadata": {
        "id": "ULJIKyWvSA4v"
      }
    },
    {
      "cell_type": "code",
      "execution_count": 3,
      "metadata": {
        "colab": {
          "base_uri": "https://localhost:8080/"
        },
        "id": "9FeigdnJRaor",
        "outputId": "4627933f-573e-4dca-9f91-8468d24c8842"
      },
      "outputs": [
        {
          "output_type": "stream",
          "name": "stdout",
          "text": [
            "Pat's favorite book is The Last Apprentice.\n"
          ]
        }
      ],
      "source": [
        "#8-2\n",
        "def favorite_book():\n",
        "  '''Pat's Favorite Book'''\n",
        "  print(f\"Pat's favorite book is The Last Apprentice.\")\n",
        "\n",
        "favorite_book()"
      ]
    },
    {
      "cell_type": "code",
      "source": [
        "#8-3\n",
        "def make_shirt(size,message,back):\n",
        "  '''gives a shirt size and message on it'''\n",
        "  print(f\"\\n My shirt size is {size}.\")\n",
        "  print(f\"\\n The message I want on it is {message}.\")\n",
        "  print(f\"\\n And on the back of it I would like {back}\")\n",
        "\n",
        "make_shirt('4x','FTW','Follow the Word')\n",
        "make_shirt('3x',\"I'm not ready for people\", 'Do Not Follow')"
      ],
      "metadata": {
        "colab": {
          "base_uri": "https://localhost:8080/"
        },
        "id": "hzEu4K_-Svz-",
        "outputId": "0ca3ba54-da26-43ae-c61c-b1199ea4cfed"
      },
      "execution_count": 10,
      "outputs": [
        {
          "output_type": "stream",
          "name": "stdout",
          "text": [
            "\n",
            " My shirt size is 4x.\n",
            "\n",
            " The message I want on it is FTW.\n",
            "\n",
            " And on the back of it I would like Follow the Word\n",
            "\n",
            " My shirt size is 3x.\n",
            "\n",
            " The message I want on it is I'm not ready for people.\n",
            "\n",
            " And on the back of it I would like Do Not Follow\n"
          ]
        }
      ]
    },
    {
      "cell_type": "code",
      "source": [
        "#8-3\n",
        "def make_shirt(size,message,back):\n",
        "  '''gives a shirt size and message on it'''\n",
        "  print(f\"\\n My shirt size is {size}.\")\n",
        "  print(f\"\\n The message I want on it is {message}.\")\n",
        "  print(f\"\\n And on the back of it I would like {back}\")\n",
        "\n",
        "make_shirt(size='4x',message='FTW',back='Follow the Word')\n",
        "make_shirt(message='FTW', size='4x', back='Follow the Word')"
      ],
      "metadata": {
        "colab": {
          "base_uri": "https://localhost:8080/"
        },
        "id": "4oicM9GZVLEK",
        "outputId": "bccaf34e-fb19-4d46-d9fa-d4ea88387359"
      },
      "execution_count": 13,
      "outputs": [
        {
          "output_type": "stream",
          "name": "stdout",
          "text": [
            "\n",
            " My shirt size is 4x.\n",
            "\n",
            " The message I want on it is FTW.\n",
            "\n",
            " And on the back of it I would like Follow the Word\n",
            "\n",
            " My shirt size is 4x.\n",
            "\n",
            " The message I want on it is FTW.\n",
            "\n",
            " And on the back of it I would like Follow the Word\n"
          ]
        }
      ]
    },
    {
      "cell_type": "code",
      "source": [
        "#8-4\n",
        "\n",
        "def make_tshirt(size1='large',message1='I love Python!'):\n",
        "  '''making a new tshirt'''\n",
        "\n",
        "  make_tshirt()"
      ],
      "metadata": {
        "id": "LrgLhy0wWbNG"
      },
      "execution_count": 14,
      "outputs": []
    },
    {
      "cell_type": "code",
      "source": [
        "#FUNC 8\n",
        "\n",
        "def func8(a, b, c=42):\n",
        "    sum_val = a + b + c\n",
        "    product = a * b * c\n",
        "    sorted_list = sorted([a, b, c])\n",
        "    return sum_val, product, sorted_list\n",
        "\n",
        "print(func8(4,5))\n",
        "print(func8(45,55,4))\n",
        "print(func8(99,23,5))"
      ],
      "metadata": {
        "colab": {
          "base_uri": "https://localhost:8080/"
        },
        "id": "tBZyrzjsfTky",
        "outputId": "2b6168d1-cea5-4fb9-abfb-e7a898a906ae"
      },
      "execution_count": 15,
      "outputs": [
        {
          "output_type": "stream",
          "name": "stdout",
          "text": [
            "(51, 840, [4, 5, 42])\n",
            "(104, 9900, [4, 45, 55])\n",
            "(127, 11385, [5, 23, 99])\n"
          ]
        }
      ]
    }
  ]
}