{
  "nbformat": 4,
  "nbformat_minor": 0,
  "metadata": {
    "colab": {
      "provenance": [],
      "authorship_tag": "ABX9TyNu81s5yEKW0NNCWT0fQJto",
      "include_colab_link": true
    },
    "kernelspec": {
      "name": "python3",
      "display_name": "Python 3"
    },
    "language_info": {
      "name": "python"
    }
  },
  "cells": [
    {
      "cell_type": "markdown",
      "metadata": {
        "id": "view-in-github",
        "colab_type": "text"
      },
      "source": [
        "<a href=\"https://colab.research.google.com/github/pperr007/pperr007/blob/main/Assignment7.ipynb\" target=\"_parent\"><img src=\"https://colab.research.google.com/assets/colab-badge.svg\" alt=\"Open In Colab\"/></a>"
      ]
    },
    {
      "cell_type": "markdown",
      "source": [
        "# Assignment 7 for CSC221"
      ],
      "metadata": {
        "id": "pA74TuyF9Rzt"
      }
    },
    {
      "cell_type": "code",
      "execution_count": null,
      "metadata": {
        "colab": {
          "base_uri": "https://localhost:8080/"
        },
        "id": "GUKicdcU3Dq3",
        "outputId": "1f1b0994-951a-46f1-929e-8a0cd7df6956"
      },
      "outputs": [
        {
          "output_type": "stream",
          "name": "stdout",
          "text": [
            "Rob\n",
            "Rowe\n",
            "45\n",
            "Westport\n",
            "dict_values(['Rob', 'Rowe', 45, 'Westport'])\n",
            "dict_keys(['first_name', 'last_name', 'age', 'city'])\n"
          ]
        }
      ],
      "source": [
        "#6-1\n",
        "d1 = {'first_name': 'Rob', 'last_name': 'Rowe', 'age': 45, 'city': 'Westport'}\n",
        "print(d1['first_name'])\n",
        "print(d1['last_name'])\n",
        "print(d1['age'])\n",
        "print(d1['city'])\n",
        "print(d1.values())\n",
        "print(d1.keys())\n"
      ]
    },
    {
      "cell_type": "code",
      "source": [
        "#6-2\n",
        "d2 = {'Patrick': 123, 'Caleb':69, 'Kait': 420, 'Connor': 42, 'Olivia': 87}\n",
        "print(d2.keys())\n",
        "print(d2.values())"
      ],
      "metadata": {
        "colab": {
          "base_uri": "https://localhost:8080/"
        },
        "id": "qRKN53gk5C6I",
        "outputId": "abb262ec-aa49-46c5-ca86-20dbf7907a7c"
      },
      "execution_count": null,
      "outputs": [
        {
          "output_type": "stream",
          "name": "stdout",
          "text": [
            "dict_keys(['Patrick', 'Caleb', 'Kait', 'Connor', 'Olivia'])\n",
            "dict_values([123, 69, 420, 593, 87])\n"
          ]
        }
      ]
    },
    {
      "cell_type": "code",
      "source": [
        "#6-3\n",
        "def flute():\n",
        "  glossary = {'for: ': 'a reserved word that makes a process of code happen until a requirement is met',\n",
        "            'and: ':'a word used to combine two or more operations, for example if true do this and that',\n",
        "            'True: ':'states if something is correct in code',\n",
        "            'False: ':'states if something is wrong in code',\n",
        "            'del: ':'to delete an item from a section of code'}\n",
        "  print('Glossary:\\n')\n",
        "  for term, definition in glossary.items():\n",
        "      print(f\"{term}: {definition}\")\n",
        "\n",
        "\n",
        "\n",
        "\n",
        "\n"
      ],
      "metadata": {
        "id": "Pubij-hj9P9I"
      },
      "execution_count": 23,
      "outputs": []
    },
    {
      "cell_type": "code",
      "source": [
        "#6-11\n",
        "\n",
        "cities = {'Plattsburgh': {'country':'USA', 'population':'20,000', 'fact':'It was a major port in the revolutionary war.'},\n",
        "          'Tupelo': {'country': 'USA', 'population':'37,000', 'fact':'Home of the KING!'},\n",
        "          'Texarkana':{'country':'USA','population':'66,000', 'fact':'It spans across two states.'}}\n",
        "\n",
        "print(cities['Plattsburgh']['country'])\n",
        "print(cities['Plattsburgh']['population'])\n",
        "print(cities['Plattsburgh']['fact'])\n",
        "\n",
        "print(cities['Tupelo']['country'])\n",
        "print(cities['Tupelo']['population'])\n",
        "print(cities['Tupelo']['fact'])\n",
        "\n",
        "print(cities['Texarkana']['country'])\n",
        "print(cities['Texarkana']['population'])\n",
        "print(cities['Texarkana']['fact'])"
      ],
      "metadata": {
        "colab": {
          "base_uri": "https://localhost:8080/"
        },
        "id": "lZ-pFD_yEUJx",
        "outputId": "aabda128-ca3a-4ee2-9804-38b28560b9ce"
      },
      "execution_count": 32,
      "outputs": [
        {
          "output_type": "stream",
          "name": "stdout",
          "text": [
            "USA\n",
            "20,000\n",
            "It was a major port in the revolutionary war.\n",
            "USA\n",
            "37,000\n",
            "Home of the KING!\n",
            "USA\n",
            "66,000\n",
            "It spans across two states.\n"
          ]
        }
      ]
    }
  ]
}