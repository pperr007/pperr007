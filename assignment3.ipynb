{
  "nbformat": 4,
  "nbformat_minor": 0,
  "metadata": {
    "colab": {
      "provenance": [],
      "authorship_tag": "ABX9TyPj+k6pVuBgzk5UE3q4AQa9",
      "include_colab_link": true
    },
    "kernelspec": {
      "name": "python3",
      "display_name": "Python 3"
    },
    "language_info": {
      "name": "python"
    }
  },
  "cells": [
    {
      "cell_type": "markdown",
      "metadata": {
        "id": "view-in-github",
        "colab_type": "text"
      },
      "source": [
        "<a href=\"https://colab.research.google.com/github/pperr007/pperr007/blob/main/assignment3.ipynb\" target=\"_parent\"><img src=\"https://colab.research.google.com/assets/colab-badge.svg\" alt=\"Open In Colab\"/></a>"
      ]
    },
    {
      "cell_type": "code",
      "execution_count": 3,
      "metadata": {
        "colab": {
          "base_uri": "https://localhost:8080/"
        },
        "id": "bPMMx449dp7H",
        "outputId": "aabf920a-a133-4e8c-a732-4a2e9bb92146"
      },
      "outputs": [
        {
          "output_type": "stream",
          "name": "stdout",
          "text": [
            "goofs are us\n"
          ]
        }
      ],
      "source": [
        "#TIY 2-1\n",
        "message = 'goofs are us'\n",
        "print(message)"
      ]
    },
    {
      "cell_type": "code",
      "source": [
        "#TIY 2-2\n",
        "message ='great scott'\n",
        "print(message)\n",
        "message_1 = 'What is it Doc?'\n",
        "print(message_1)"
      ],
      "metadata": {
        "colab": {
          "base_uri": "https://localhost:8080/"
        },
        "id": "7INt2ZcYhBba",
        "outputId": "765548af-cccb-47d9-fab4-6db7c9113146"
      },
      "execution_count": 5,
      "outputs": [
        {
          "output_type": "stream",
          "name": "stdout",
          "text": [
            "great scott\n",
            "What is it Doc?\n"
          ]
        }
      ]
    },
    {
      "cell_type": "code",
      "source": [
        "#TIY 2-3\n",
        "name = 'Bobbert'\n",
        "print(f'Hello {name}, get in we are going shopping' )"
      ],
      "metadata": {
        "colab": {
          "base_uri": "https://localhost:8080/"
        },
        "id": "9FGHpJFyhoTQ",
        "outputId": "00faad53-7b17-4ad5-cdfc-23aa0b7dd2c5"
      },
      "execution_count": 6,
      "outputs": [
        {
          "output_type": "stream",
          "name": "stdout",
          "text": [
            "Hello Bobbert, get in we are going shopping\n"
          ]
        }
      ]
    },
    {
      "cell_type": "code",
      "source": [
        "#TIY 2-4\n",
        "name = 'bobbert bobberson'\n",
        "print(name.title())\n",
        "print(name.capitalize())\n",
        "print(name.lower())\n",
        "print(name.upper())"
      ],
      "metadata": {
        "colab": {
          "base_uri": "https://localhost:8080/"
        },
        "id": "wFphB8pRiosg",
        "outputId": "3542f93a-d5f0-4683-b0b3-8af3714f5246"
      },
      "execution_count": 16,
      "outputs": [
        {
          "output_type": "stream",
          "name": "stdout",
          "text": [
            "Bobbert Bobberson\n",
            "Bobbert bobberson\n",
            "bobbert bobberson\n",
            "BOBBERT BOBBERSON\n"
          ]
        }
      ]
    },
    {
      "cell_type": "code",
      "source": [
        "#TIY 2-5\n",
        "message = '\"Courage is being scared to death but saddling up anyway.\"'\n",
        "print(f'John Wayne once said, {message}')"
      ],
      "metadata": {
        "colab": {
          "base_uri": "https://localhost:8080/"
        },
        "id": "kj4wEmrJjtO7",
        "outputId": "823db9ba-5a5d-4b1c-9463-667f2ae5e3c9"
      },
      "execution_count": 13,
      "outputs": [
        {
          "output_type": "stream",
          "name": "stdout",
          "text": [
            "John Wayne once said, \"Courage is being scared to death but saddling up anyway.\"\n"
          ]
        }
      ]
    },
    {
      "cell_type": "code",
      "source": [
        "#TIY 2-6\n",
        "famous_person = 'John Wayne'\n",
        "message = '\"Courage is being scared to death but saddling up anyway.\"'\n",
        "print(f'{famous_person} once said, {message}')"
      ],
      "metadata": {
        "colab": {
          "base_uri": "https://localhost:8080/"
        },
        "id": "tfPe4rQBmdCO",
        "outputId": "f37707f4-cbd3-4a7b-f0ab-370ae719346b"
      },
      "execution_count": 14,
      "outputs": [
        {
          "output_type": "stream",
          "name": "stdout",
          "text": [
            "John Wayne once said, \"Courage is being scared to death but saddling up anyway.\"\n"
          ]
        }
      ]
    },
    {
      "cell_type": "code",
      "source": [
        "#TIY 2-7\n",
        "print('Laos')\n",
        "print('\\tLaos')\n",
        "print('Laos \\nis \\nvery \\nfar')\n",
        "print('\\nLaos')\n",
        "\n",
        "favorite_language = ' latin '\n",
        "favorite_language.rstrip()\n",
        "\n"
      ],
      "metadata": {
        "colab": {
          "base_uri": "https://localhost:8080/",
          "height": 174
        },
        "id": "lFYG4y6Kog9B",
        "outputId": "10a1e239-6127-4398-8c5f-b26f14e1d3cd"
      },
      "execution_count": 32,
      "outputs": [
        {
          "output_type": "stream",
          "name": "stdout",
          "text": [
            "Laos\n",
            "\tLaos\n",
            "Laos \n",
            "is \n",
            "very \n",
            "far\n",
            "\n",
            "Laos\n"
          ]
        },
        {
          "output_type": "execute_result",
          "data": {
            "text/plain": [
              "' latin'"
            ],
            "application/vnd.google.colaboratory.intrinsic+json": {
              "type": "string"
            }
          },
          "metadata": {},
          "execution_count": 32
        }
      ]
    },
    {
      "cell_type": "code",
      "source": [
        "#TIY 2-7\n",
        "favorite_language = ' latin '\n",
        "favorite_language.lstrip()\n"
      ],
      "metadata": {
        "colab": {
          "base_uri": "https://localhost:8080/",
          "height": 36
        },
        "id": "f9QjCodwtiJp",
        "outputId": "29465933-53a5-4f29-e826-7e6a10a829a3"
      },
      "execution_count": 33,
      "outputs": [
        {
          "output_type": "execute_result",
          "data": {
            "text/plain": [
              "'latin '"
            ],
            "application/vnd.google.colaboratory.intrinsic+json": {
              "type": "string"
            }
          },
          "metadata": {},
          "execution_count": 33
        }
      ]
    },
    {
      "cell_type": "code",
      "source": [
        "#TIY 2-7\n",
        "favorite_language = \"latin\"\n",
        "favorite_language.strip()"
      ],
      "metadata": {
        "colab": {
          "base_uri": "https://localhost:8080/",
          "height": 36
        },
        "id": "jqO4nt1pupXz",
        "outputId": "52c4a0ec-b75c-4a62-9f9f-a7de43122b26"
      },
      "execution_count": 34,
      "outputs": [
        {
          "output_type": "execute_result",
          "data": {
            "text/plain": [
              "'latin'"
            ],
            "application/vnd.google.colaboratory.intrinsic+json": {
              "type": "string"
            }
          },
          "metadata": {},
          "execution_count": 34
        }
      ]
    },
    {
      "cell_type": "code",
      "source": [
        "#TIY 2-8\n",
        "filename = 'python_notes.txt'\n",
        "filename.removesuffix('.txt')"
      ],
      "metadata": {
        "colab": {
          "base_uri": "https://localhost:8080/",
          "height": 36
        },
        "id": "Ai8Psar3vR5k",
        "outputId": "7a02aba9-91f1-421a-f97d-95abeb60df15"
      },
      "execution_count": 36,
      "outputs": [
        {
          "output_type": "execute_result",
          "data": {
            "text/plain": [
              "'python_notes'"
            ],
            "application/vnd.google.colaboratory.intrinsic+json": {
              "type": "string"
            }
          },
          "metadata": {},
          "execution_count": 36
        }
      ]
    },
    {
      "cell_type": "code",
      "source": [
        "#TIY 2-9\n",
        "print(5+3)\n",
        "print(2**3)\n",
        "print(4+4)\n",
        "print(2*4)"
      ],
      "metadata": {
        "colab": {
          "base_uri": "https://localhost:8080/"
        },
        "id": "kQlUHB4HxOW9",
        "outputId": "8e9a18a3-3bb5-4c5a-b089-c5d0dddba828"
      },
      "execution_count": 40,
      "outputs": [
        {
          "output_type": "stream",
          "name": "stdout",
          "text": [
            "8\n",
            "8\n",
            "8\n",
            "8\n"
          ]
        }
      ]
    },
    {
      "cell_type": "code",
      "source": [
        "#TIY 2-10\n",
        "print('Type in your favorite number :')\n",
        "name = input()\n",
        "print(f\"Cool beans, that is my favorite number too!\")"
      ],
      "metadata": {
        "colab": {
          "base_uri": "https://localhost:8080/"
        },
        "id": "0ICsgevDxuE1",
        "outputId": "57d2d766-7a1e-482d-c786-061004f97c04"
      },
      "execution_count": 42,
      "outputs": [
        {
          "output_type": "stream",
          "name": "stdout",
          "text": [
            "Type in your favorite number :\n",
            "22\n",
            "Cool beans, that is my favorite number too!\n"
          ]
        }
      ]
    },
    {
      "cell_type": "code",
      "source": [
        "#TIY 2-10\n",
        "favorite_number = 8\n",
        "print(f\"My favorite number is {favorite_number}\")"
      ],
      "metadata": {
        "colab": {
          "base_uri": "https://localhost:8080/"
        },
        "id": "pDJ7SMZpzbaZ",
        "outputId": "d1d215c1-b183-4b1e-f062-9947b40da4a8"
      },
      "execution_count": 46,
      "outputs": [
        {
          "output_type": "stream",
          "name": "stdout",
          "text": [
            "My favorite number is 8\n"
          ]
        }
      ]
    },
    {
      "cell_type": "code",
      "source": [
        "#TIY 2-11\n",
        "import random\n",
        "\n",
        "def roll():\n",
        "  r = random.randint(1,20)\n",
        "  return r\n",
        "\n",
        "for i in range(1):\n",
        "  print(i,roll())\n",
        "\n",
        "\n",
        "#This code rolls a d20 for a random number between 1 and 20\n",
        "#d20 die"
      ],
      "metadata": {
        "colab": {
          "base_uri": "https://localhost:8080/"
        },
        "id": "iGH3ivrq0Pcj",
        "outputId": "010d9ea4-7590-47d4-8824-b672893e1a15"
      },
      "execution_count": 47,
      "outputs": [
        {
          "output_type": "stream",
          "name": "stdout",
          "text": [
            "0 13\n"
          ]
        }
      ]
    },
    {
      "cell_type": "code",
      "source": [
        "#TIY 2-12\n",
        "import this\n"
      ],
      "metadata": {
        "colab": {
          "base_uri": "https://localhost:8080/"
        },
        "id": "kevfsps901eb",
        "outputId": "6df7a50b-9081-4974-e5a1-8b78003fa478"
      },
      "execution_count": 48,
      "outputs": [
        {
          "output_type": "stream",
          "name": "stdout",
          "text": [
            "The Zen of Python, by Tim Peters\n",
            "\n",
            "Beautiful is better than ugly.\n",
            "Explicit is better than implicit.\n",
            "Simple is better than complex.\n",
            "Complex is better than complicated.\n",
            "Flat is better than nested.\n",
            "Sparse is better than dense.\n",
            "Readability counts.\n",
            "Special cases aren't special enough to break the rules.\n",
            "Although practicality beats purity.\n",
            "Errors should never pass silently.\n",
            "Unless explicitly silenced.\n",
            "In the face of ambiguity, refuse the temptation to guess.\n",
            "There should be one-- and preferably only one --obvious way to do it.\n",
            "Although that way may not be obvious at first unless you're Dutch.\n",
            "Now is better than never.\n",
            "Although never is often better than *right* now.\n",
            "If the implementation is hard to explain, it's a bad idea.\n",
            "If the implementation is easy to explain, it may be a good idea.\n",
            "Namespaces are one honking great idea -- let's do more of those!\n"
          ]
        }
      ]
    }
  ]
}