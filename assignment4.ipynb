{
  "nbformat": 4,
  "nbformat_minor": 0,
  "metadata": {
    "colab": {
      "provenance": [],
      "authorship_tag": "ABX9TyNMuN1tAgZ0sre3EWqTw87t",
      "include_colab_link": true
    },
    "kernelspec": {
      "name": "python3",
      "display_name": "Python 3"
    },
    "language_info": {
      "name": "python"
    }
  },
  "cells": [
    {
      "cell_type": "markdown",
      "metadata": {
        "id": "view-in-github",
        "colab_type": "text"
      },
      "source": [
        "<a href=\"https://colab.research.google.com/github/pperr007/pperr007/blob/main/assignment4.ipynb\" target=\"_parent\"><img src=\"https://colab.research.google.com/assets/colab-badge.svg\" alt=\"Open In Colab\"/></a>"
      ]
    },
    {
      "cell_type": "code",
      "execution_count": null,
      "metadata": {
        "colab": {
          "base_uri": "https://localhost:8080/"
        },
        "id": "6yWil_g1nnEF",
        "outputId": "47283caa-c4ba-4cd9-b205-f3b1959c71b4"
      },
      "outputs": [
        {
          "output_type": "stream",
          "name": "stdout",
          "text": [
            "['Caleb', 'Brecken', 'Olivia']\n",
            "Caleb\n",
            "Brecken\n",
            "Olivia\n"
          ]
        }
      ],
      "source": [
        "# 3-1\n",
        "names = ['Caleb', 'Brecken', 'Olivia']\n",
        "\n",
        "print(names)\n",
        "print(names[0])\n",
        "print(names[1])\n",
        "print(names[2])\n"
      ]
    },
    {
      "cell_type": "code",
      "source": [
        "#3-2\n",
        "message = f'My friend {names[0]} likes warhammer 40k.'\n",
        "print(message)\n",
        "message_1 = f'My friend {names[1]} likes to talk. '\n",
        "print(message_1)\n",
        "message_2 = f'{names[2]} is my cousin.'\n",
        "print(message_2)\n"
      ],
      "metadata": {
        "colab": {
          "base_uri": "https://localhost:8080/"
        },
        "id": "6VaOE3igrpqH",
        "outputId": "8fe3250e-3d9d-411b-adcc-12209914d1cb"
      },
      "execution_count": null,
      "outputs": [
        {
          "output_type": "stream",
          "name": "stdout",
          "text": [
            "My friend Caleb likes warhammer 40k.\n",
            "My friend Brecken likes to talk. \n",
            "Olivia is my cousin.\n"
          ]
        }
      ]
    },
    {
      "cell_type": "code",
      "source": [
        "#3-3\n",
        "transpo = ['Triumph America', 'Harley Shovelhead', '1967 Chevy Impala']\n",
        "\n",
        "message = f'I would like to own a {transpo[2]}.'\n",
        "print(message)"
      ],
      "metadata": {
        "colab": {
          "base_uri": "https://localhost:8080/"
        },
        "id": "PYcbeoGawDx1",
        "outputId": "1de69ea8-c4a8-4a83-f661-2e6f88a510e7"
      },
      "execution_count": null,
      "outputs": [
        {
          "output_type": "stream",
          "name": "stdout",
          "text": [
            "I would like to own a 1967 Chevy Impala.\n"
          ]
        }
      ]
    },
    {
      "cell_type": "code",
      "source": [
        "# 3-4 Chatgpt example of making list\n",
        "def create_invitations(guest_list):\n",
        "    invitations = []\n",
        "    for guest in guest_list:\n",
        "        invitation = f\"Dear {guest}, You are invited to our event!\"\n",
        "        invitations.append(invitation)\n",
        "    return invitations\n",
        "\n",
        "# Example guest list\n",
        "guest_list = [\"Alice\", \"Bob\", \"Charlie\", \"David\"]\n",
        "\n",
        "# Creating invitations\n",
        "invitations = create_invitations(guest_list)\n",
        "\n",
        "# Printing invitations\n",
        "for invitation in invitations:\n",
        "    print(invitation)"
      ],
      "metadata": {
        "colab": {
          "base_uri": "https://localhost:8080/"
        },
        "id": "QQMkqgSnLCwh",
        "outputId": "110347f8-c396-46e3-a49a-63a7ba7ffbbc"
      },
      "execution_count": null,
      "outputs": [
        {
          "output_type": "stream",
          "name": "stdout",
          "text": [
            "Dear Alice, You are invited to our event!\n",
            "Dear Bob, You are invited to our event!\n",
            "Dear Charlie, You are invited to our event!\n",
            "Dear David, You are invited to our event!\n"
          ]
        }
      ]
    },
    {
      "cell_type": "code",
      "source": [
        "# 3-4 my attempted version of it\n",
        "\n",
        "\n",
        "def create_invitations(guests):\n",
        "    invitations = []\n",
        "    for guest in guests:\n",
        "        invitation = f\"Dear {guest}, You are invited to dinner!\"\n",
        "        invitations.append(invitation)\n",
        "    return invitations\n",
        "\n",
        "guests = [\"Dad\", \"Eddie\", \"Walt\", \"Uncle Mike\"]\n",
        "invitations = create_invitations(guests)\n",
        "for invitation in invitations:\n",
        "    print(invitation)\n",
        "\n"
      ],
      "metadata": {
        "id": "_4fNkh77FnCj",
        "colab": {
          "base_uri": "https://localhost:8080/"
        },
        "outputId": "625a6b4a-7fdc-4052-d594-b0521e1be73d"
      },
      "execution_count": null,
      "outputs": [
        {
          "output_type": "stream",
          "name": "stdout",
          "text": [
            "Dear Dad, You are invited to dinner!\n",
            "Dear Eddie, You are invited to dinner!\n",
            "Dear Walt, You are invited to dinner!\n",
            "Dear Uncle Mike, You are invited to dinner!\n"
          ]
        }
      ]
    },
    {
      "cell_type": "code",
      "source": [
        "# 3-5\n",
        "def create_invitations(guest_list):\n",
        "    invitations = []\n",
        "    for guest in guest_list:\n",
        "        invitation = f\"Dear {guest}, You are invited to dinner this evening!\"\n",
        "        invitations.append(invitation)\n",
        "    return invitations\n",
        "\n",
        "# Example guest list\n",
        "guest_list = [\"Walt\", \"Eddie\", \"Uncle Mike\", \"Dad\"]\n",
        "\n",
        "# Creating invitations\n",
        "invitations = create_invitations(guest_list)\n",
        "\n",
        "# Printing invitations\n",
        "for invitation in invitations:\n",
        "    print(invitation)\n",
        "\n",
        "#invitations.remove(guest_list[2])\n",
        "del(invitations[2])\n",
        "\n",
        "invitations.append(\"Dear Kat, you are invited to dinner this evening.\")\n",
        "for invitation in invitations:\n",
        "    print(invitation)"
      ],
      "metadata": {
        "colab": {
          "base_uri": "https://localhost:8080/"
        },
        "id": "OWt_2qPZLuDY",
        "outputId": "114528ee-5374-451b-feb9-64497492f696"
      },
      "execution_count": null,
      "outputs": [
        {
          "output_type": "stream",
          "name": "stdout",
          "text": [
            "Dear Walt, You are invited to dinner this evening!\n",
            "Dear Eddie, You are invited to dinner this evening!\n",
            "Dear Uncle Mike, You are invited to dinner this evening!\n",
            "Dear Dad, You are invited to dinner this evening!\n",
            "Dear Walt, You are invited to dinner this evening!\n",
            "Dear Eddie, You are invited to dinner this evening!\n",
            "Dear Dad, You are invited to dinner this evening!\n",
            "Dear Kat, you are invited to dinner this evening.\n"
          ]
        }
      ]
    },
    {
      "cell_type": "code",
      "source": [
        "# 3-6\n",
        "def create_invitations(guest_list):\n",
        "    invitations = []\n",
        "    for guest in guest_list:\n",
        "        invitation = f\"Dear {guest}, You are invited to dinner this evening!\"\n",
        "        invitations.append(invitation)\n",
        "    return invitations\n",
        "\n",
        "# Example guest list\n",
        "guest_list = [\"Walt\", \"Eddie\", \"Uncle Mike\", \"Dad\"]\n",
        "\n",
        "# Creating invitations\n",
        "invitations = create_invitations(guest_list)\n",
        "\n",
        "# Printing invitations\n",
        "for invitation in invitations:\n",
        "    print(invitation)\n",
        "print(\"---\")\n",
        "\n",
        "#invitations.remove(guest_list[2])\n",
        "del(invitations[2])\n",
        "\n",
        "invitations.append(\"Dear Kat, you are invited to dinner this evening.\")\n",
        "for invitation in invitations:\n",
        "    print(invitation)\n",
        "print(\"---\")\n",
        "\n",
        "invitations.insert(0,\"Dear Pup, you are invited to dinner this evening.\")\n",
        "for invitation in invitations:\n",
        "    print(invitation)\n",
        "\n",
        "print('---')\n",
        "\n",
        "\n",
        "invitations.insert(len(invitations),\"Dear Chantel, you are invited to dinner this evening.\")\n",
        "for invitation in invitations:\n",
        "    print(invitation)\n",
        "\n",
        "print('---')\n",
        "\n",
        "\n",
        "invitations.insert(len(invitations)//2, \"Dear Jimmy, you are invited to dinner this evening.\")\n",
        "for invitation in invitations:\n",
        "    print(invitation)"
      ],
      "metadata": {
        "colab": {
          "base_uri": "https://localhost:8080/"
        },
        "id": "a-wepH9dHkTp",
        "outputId": "67b1b887-d850-4e3e-c88a-f39a8bd44c40"
      },
      "execution_count": null,
      "outputs": [
        {
          "output_type": "stream",
          "name": "stdout",
          "text": [
            "Dear Walt, You are invited to dinner this evening!\n",
            "Dear Eddie, You are invited to dinner this evening!\n",
            "Dear Uncle Mike, You are invited to dinner this evening!\n",
            "Dear Dad, You are invited to dinner this evening!\n",
            "---\n",
            "Dear Walt, You are invited to dinner this evening!\n",
            "Dear Eddie, You are invited to dinner this evening!\n",
            "Dear Dad, You are invited to dinner this evening!\n",
            "Dear Kat, you are invited to dinner this evening.\n",
            "---\n",
            "Dear Pup, you are invited to dinner this evening.\n",
            "Dear Walt, You are invited to dinner this evening!\n",
            "Dear Eddie, You are invited to dinner this evening!\n",
            "Dear Dad, You are invited to dinner this evening!\n",
            "Dear Kat, you are invited to dinner this evening.\n",
            "---\n",
            "Dear Pup, you are invited to dinner this evening.\n",
            "Dear Walt, You are invited to dinner this evening!\n",
            "Dear Eddie, You are invited to dinner this evening!\n",
            "Dear Dad, You are invited to dinner this evening!\n",
            "Dear Kat, you are invited to dinner this evening.\n",
            "Dear Chantel, you are invited to dinner this evening.\n",
            "---\n",
            "Dear Pup, you are invited to dinner this evening.\n",
            "Dear Walt, You are invited to dinner this evening!\n",
            "Dear Eddie, You are invited to dinner this evening!\n",
            "Dear Jimmy, you are invited to dinner this evening.\n",
            "Dear Dad, You are invited to dinner this evening!\n",
            "Dear Kat, you are invited to dinner this evening.\n",
            "Dear Chantel, you are invited to dinner this evening.\n"
          ]
        }
      ]
    },
    {
      "cell_type": "code",
      "source": [
        "# 3-7\n",
        "def create_invitations(guest_list):\n",
        "    invitations = []\n",
        "    for guest in guest_list:\n",
        "        invitation = f\"Dear {guest}, You are invited to dinner this evening!\"\n",
        "        invitations.append(guest)\n",
        "    return invitations\n",
        "\n",
        "# Example guest list\n",
        "guest_list = [\"Walt\", \"Eddie\", \"Uncle Mike\", \"Dad\"]\n",
        "\n",
        "# Creating invitations\n",
        "invitations = create_invitations(guest_list)\n",
        "\n",
        "# Printing invitations\n",
        "for invitation in invitations:\n",
        "    print(invitation)\n",
        "print(\"---\")\n",
        "\n",
        "#invitations.remove(guest_list[2])\n",
        "del(invitations[2])\n",
        "\n",
        "invitations.append(\"Kat\")\n",
        "for invitation in invitations:\n",
        "    print(f'\"Dear {invitation}, you are invited to dinner this evening.\"')\n",
        "print(\"---\")\n",
        "\n",
        "invitations.insert(0,\"Pup\")\n",
        "for invitation in invitations:\n",
        "    print(f'\"Dear {invitation}, you are invited to dinner this evening.\"')\n",
        "\n",
        "print('---')\n",
        "\n",
        "\n",
        "invitations.insert(len(invitations),\"Chantel\")\n",
        "for invitation in invitations:\n",
        "    print(f'\"Dear {invitation}, you are invited to dinner this evening.\"')\n",
        "\n",
        "print('---')\n",
        "\n",
        "\n",
        "invitations.insert(len(invitation)//2, 'Jimmy' )\n",
        "for invitation in invitations:\n",
        "    print(f'\"Dear {invitation}, you are invited to dinner this evening.\"')\n",
        "\n",
        "print('---')\n",
        "#pop names off list\n",
        "\n",
        "while(len(invitations)>2):\n",
        "  last = invitations.pop()\n",
        "  print(f'\"Dear {last}, you are NOT invited to dinner this evening.\"')\n",
        "for invitation in invitations:\n",
        "    print(f'\"Dear {invitation}, you are invited to dinner this evening.\"')\n",
        "\n",
        "while(len(invitations)>0):\n",
        "  del(invitations[0])\n",
        "print(invitations)"
      ],
      "metadata": {
        "colab": {
          "base_uri": "https://localhost:8080/"
        },
        "id": "m6Ny6yGeKzcS",
        "outputId": "4f84f894-fa34-4c2a-8303-9114248acc81"
      },
      "execution_count": null,
      "outputs": [
        {
          "output_type": "stream",
          "name": "stdout",
          "text": [
            "Walt\n",
            "Eddie\n",
            "Uncle Mike\n",
            "Dad\n",
            "---\n",
            "\"Dear Walt, you are invited to dinner this evening.\"\n",
            "\"Dear Eddie, you are invited to dinner this evening.\"\n",
            "\"Dear Dad, you are invited to dinner this evening.\"\n",
            "\"Dear Kat, you are invited to dinner this evening.\"\n",
            "---\n",
            "\"Dear Pup, you are invited to dinner this evening.\"\n",
            "\"Dear Walt, you are invited to dinner this evening.\"\n",
            "\"Dear Eddie, you are invited to dinner this evening.\"\n",
            "\"Dear Dad, you are invited to dinner this evening.\"\n",
            "\"Dear Kat, you are invited to dinner this evening.\"\n",
            "---\n",
            "\"Dear Pup, you are invited to dinner this evening.\"\n",
            "\"Dear Walt, you are invited to dinner this evening.\"\n",
            "\"Dear Eddie, you are invited to dinner this evening.\"\n",
            "\"Dear Dad, you are invited to dinner this evening.\"\n",
            "\"Dear Kat, you are invited to dinner this evening.\"\n",
            "\"Dear Chantel, you are invited to dinner this evening.\"\n",
            "---\n",
            "\"Dear Pup, you are invited to dinner this evening.\"\n",
            "\"Dear Walt, you are invited to dinner this evening.\"\n",
            "\"Dear Eddie, you are invited to dinner this evening.\"\n",
            "\"Dear Jimmy, you are invited to dinner this evening.\"\n",
            "\"Dear Dad, you are invited to dinner this evening.\"\n",
            "\"Dear Kat, you are invited to dinner this evening.\"\n",
            "\"Dear Chantel, you are invited to dinner this evening.\"\n",
            "---\n",
            "\"Dear Chantel, you are NOT invited to dinner this evening.\"\n",
            "\"Dear Kat, you are NOT invited to dinner this evening.\"\n",
            "\"Dear Dad, you are NOT invited to dinner this evening.\"\n",
            "\"Dear Jimmy, you are NOT invited to dinner this evening.\"\n",
            "\"Dear Eddie, you are NOT invited to dinner this evening.\"\n",
            "\"Dear Pup, you are invited to dinner this evening.\"\n",
            "\"Dear Walt, you are invited to dinner this evening.\"\n",
            "[]\n"
          ]
        }
      ]
    }
  ]
}