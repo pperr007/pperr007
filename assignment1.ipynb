{
  "nbformat": 4,
  "nbformat_minor": 0,
  "metadata": {
    "colab": {
      "provenance": [],
      "authorship_tag": "ABX9TyMCUp5X6o4cZDOY2qLYmgG4",
      "include_colab_link": true
    },
    "kernelspec": {
      "name": "python3",
      "display_name": "Python 3"
    },
    "language_info": {
      "name": "python"
    }
  },
  "cells": [
    {
      "cell_type": "markdown",
      "metadata": {
        "id": "view-in-github",
        "colab_type": "text"
      },
      "source": [
        "<a href=\"https://colab.research.google.com/github/pperr007/pperr007/blob/main/assignment1.ipynb\" target=\"_parent\"><img src=\"https://colab.research.google.com/assets/colab-badge.svg\" alt=\"Open In Colab\"/></a>"
      ]
    },
    {
      "cell_type": "code",
      "execution_count": 4,
      "metadata": {
        "colab": {
          "base_uri": "https://localhost:8080/"
        },
        "id": "OOg3h92kEyZS",
        "outputId": "d36e14a8-1a4b-41e5-cfab-5b16b8193da3"
      },
      "outputs": [
        {
          "output_type": "stream",
          "name": "stdout",
          "text": [
            "I am learning to code now!\n",
            "I am learning to code now!\n",
            "I am learning to code now!\n",
            "I am learning to code now!\n",
            "I am learning to code now!\n",
            "I am learning to code now!\n",
            "I am learning to code now!\n",
            "I am learning to code now!\n",
            "I am learning to code now!\n",
            "I am learning to code now!\n",
            "I am learning to code now!\n",
            "I am learning to code now!\n",
            "I am learning to code now!\n",
            "I am learning to code now!\n",
            "I am learning to code now!\n",
            "I am learning to code now!\n",
            "I am learning to code now!\n",
            "I am learning to code now!\n",
            "I am learning to code now!\n",
            "I am learning to code now!\n"
          ]
        }
      ],
      "source": [
        "number_of_times = 0\n",
        "\n",
        "while number_of_times < 20:\n",
        "  print(\"I am learning to code now!\")\n",
        "  number_of_times += 1"
      ]
    }
  ]
}