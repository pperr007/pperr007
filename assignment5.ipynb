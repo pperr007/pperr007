{
  "nbformat": 4,
  "nbformat_minor": 0,
  "metadata": {
    "colab": {
      "provenance": [],
      "authorship_tag": "ABX9TyMD7q1D+36018qV6Wucj0ov",
      "include_colab_link": true
    },
    "kernelspec": {
      "name": "python3",
      "display_name": "Python 3"
    },
    "language_info": {
      "name": "python"
    }
  },
  "cells": [
    {
      "cell_type": "markdown",
      "metadata": {
        "id": "view-in-github",
        "colab_type": "text"
      },
      "source": [
        "<a href=\"https://colab.research.google.com/github/pperr007/pperr007/blob/main/assignment5.ipynb\" target=\"_parent\"><img src=\"https://colab.research.google.com/assets/colab-badge.svg\" alt=\"Open In Colab\"/></a>"
      ]
    },
    {
      "cell_type": "code",
      "execution_count": 6,
      "metadata": {
        "colab": {
          "base_uri": "https://localhost:8080/"
        },
        "id": "Y5RkgKsulB5N",
        "outputId": "4d9a826a-5a87-4f4a-f2aa-e64c996b93ee"
      },
      "outputs": [
        {
          "output_type": "stream",
          "name": "stdout",
          "text": [
            "white pizza\n",
            "pepperoni pizza\n",
            "pineapple pizza\n",
            "I like white pizza\n",
            "I like pepperoni pizza\n",
            "I like pineapple pizza\n",
            "I like white pizza\n",
            "I like pepperoni pizza\n",
            "I don't like pineapple pizza\n"
          ]
        }
      ],
      "source": [
        "#4-1\n",
        "\n",
        "pizzas = ['white pizza','pepperoni pizza','pineapple pizza']\n",
        "\n",
        "for pizza in pizzas:\n",
        "  print(pizza)\n",
        "for pizza in pizzas:\n",
        "  print(f'I like {pizza}')\n",
        "for pizza in pizzas:\n",
        "  if pizza == 'pineapple pizza':\n",
        "    print(f\"I don't like {pizza}\")\n",
        "    continue\n",
        "  print(f'I like {pizza}')\n"
      ]
    },
    {
      "cell_type": "code",
      "source": [
        "#4-2\n",
        "\n",
        "animals = ['cheetah','mountain lions','leopards']\n",
        "for animal in animals:\n",
        "  print(animal)\n",
        "print(f'{animals[0]} is a large cat that lives in the savanna.')\n",
        "print(f'{animals[1]} are not nice pets.')\n",
        "print(f'{animals[2]} are endangered.')\n",
        "\n",
        "print(f'These animals are not good pets.')\n"
      ],
      "metadata": {
        "colab": {
          "base_uri": "https://localhost:8080/"
        },
        "id": "jymOepyeoc1z",
        "outputId": "5fd5dcde-5055-46fd-9157-11e2b2f8e6a3"
      },
      "execution_count": 13,
      "outputs": [
        {
          "output_type": "stream",
          "name": "stdout",
          "text": [
            "cheetah\n",
            "mountain lions\n",
            "leopards\n",
            "cheetah is a large cat that lives in the savanna.\n",
            "mountain lions are not nice pets.\n",
            "leopards are endangered.\n",
            "These animals are not good pets.\n"
          ]
        }
      ]
    },
    {
      "cell_type": "code",
      "source": [
        "#4-3\n",
        "\n",
        "for number in range(1,21):\n",
        "  print(number)\n"
      ],
      "metadata": {
        "colab": {
          "base_uri": "https://localhost:8080/"
        },
        "id": "JdzDOrnXqxsE",
        "outputId": "e64f0259-095b-4a29-dce2-93504b848a60"
      },
      "execution_count": 16,
      "outputs": [
        {
          "output_type": "stream",
          "name": "stdout",
          "text": [
            "1\n",
            "2\n",
            "3\n",
            "4\n",
            "5\n",
            "6\n",
            "7\n",
            "8\n",
            "9\n",
            "10\n",
            "11\n",
            "12\n",
            "13\n",
            "14\n",
            "15\n",
            "16\n",
            "17\n",
            "18\n",
            "19\n",
            "20\n"
          ]
        }
      ]
    },
    {
      "cell_type": "code",
      "source": [
        "#4-4\n",
        "list = range(1,1000001)\n",
        "for number in list:\n",
        "  print(number)"
      ],
      "metadata": {
        "id": "iuE85P_frkV-"
      },
      "execution_count": null,
      "outputs": []
    },
    {
      "cell_type": "code",
      "source": [
        "#4-5\n",
        "\n",
        "list = range(1,1000001)\n",
        "print(min(list))\n",
        "print(max(list))\n",
        "print(sum(list))"
      ],
      "metadata": {
        "colab": {
          "base_uri": "https://localhost:8080/"
        },
        "id": "IKhC6YZqssLS",
        "outputId": "bb0268d3-b40d-45b6-a17b-780267210425"
      },
      "execution_count": 20,
      "outputs": [
        {
          "output_type": "stream",
          "name": "stdout",
          "text": [
            "1\n",
            "1000000\n",
            "500000500000\n"
          ]
        }
      ]
    },
    {
      "cell_type": "code",
      "source": [
        "#4-6\n",
        "\n",
        "list = range(1,21,2)\n",
        "for number in list:\n",
        "  print(number)"
      ],
      "metadata": {
        "colab": {
          "base_uri": "https://localhost:8080/"
        },
        "id": "99aghEWUtts7",
        "outputId": "d2040134-8eb1-473f-fa02-2f638c252abd"
      },
      "execution_count": 23,
      "outputs": [
        {
          "output_type": "stream",
          "name": "stdout",
          "text": [
            "1\n",
            "3\n",
            "5\n",
            "7\n",
            "9\n",
            "11\n",
            "13\n",
            "15\n",
            "17\n",
            "19\n"
          ]
        }
      ]
    },
    {
      "cell_type": "code",
      "source": [
        "#4-7\n",
        "\n",
        "list = range(3,31,3)\n",
        "for number in list:\n",
        "  print(number)"
      ],
      "metadata": {
        "colab": {
          "base_uri": "https://localhost:8080/"
        },
        "id": "Jx1CbUvcuHFM",
        "outputId": "6ae06853-4a36-4822-dad7-9caf78a87f1f"
      },
      "execution_count": 25,
      "outputs": [
        {
          "output_type": "stream",
          "name": "stdout",
          "text": [
            "3\n",
            "6\n",
            "9\n",
            "12\n",
            "15\n",
            "18\n",
            "21\n",
            "24\n",
            "27\n",
            "30\n"
          ]
        }
      ]
    },
    {
      "cell_type": "code",
      "source": [
        "#4-8\n",
        "\n",
        "list = range(1,11)\n",
        "for number in list:\n",
        "  print(number**3)"
      ],
      "metadata": {
        "colab": {
          "base_uri": "https://localhost:8080/"
        },
        "id": "H9HUd5I8uVoj",
        "outputId": "78749fe6-bba3-45cb-e27d-394a25804e43"
      },
      "execution_count": 27,
      "outputs": [
        {
          "output_type": "stream",
          "name": "stdout",
          "text": [
            "1\n",
            "8\n",
            "27\n",
            "64\n",
            "125\n",
            "216\n",
            "343\n",
            "512\n",
            "729\n",
            "1000\n"
          ]
        }
      ]
    },
    {
      "cell_type": "code",
      "source": [
        "#4-9\n",
        "\n",
        "list = [number**3 for number in range(1,11)]\n",
        "print(list)"
      ],
      "metadata": {
        "colab": {
          "base_uri": "https://localhost:8080/"
        },
        "id": "7sBzfwgEumsz",
        "outputId": "77d3b167-2376-43e2-e3e7-edb9406756e1"
      },
      "execution_count": 31,
      "outputs": [
        {
          "output_type": "stream",
          "name": "stdout",
          "text": [
            "[1, 8, 27, 64, 125, 216, 343, 512, 729, 1000]\n"
          ]
        }
      ]
    },
    {
      "cell_type": "code",
      "source": [
        "#4-10\n",
        "\n",
        "list = [number**3 for number in range(1,11)]\n",
        "list[:3]\n",
        "print(f'The first three numbers of the list are: {list[:3]}')\n",
        "print(f'The middle three numbers of the list are: {list[len(list)//2-1:len(list)//2+2]}')\n",
        "print(f'The last three numbers of the list are: {list[-3:]}')\n"
      ],
      "metadata": {
        "colab": {
          "base_uri": "https://localhost:8080/"
        },
        "id": "TfrFsCAZvxBr",
        "outputId": "e01a7f75-8cd2-4a8b-8c0c-a2960f293e51"
      },
      "execution_count": 35,
      "outputs": [
        {
          "output_type": "stream",
          "name": "stdout",
          "text": [
            "The first three numbers of the list are: [1, 8, 27]\n",
            "The middle three numbers of the list are: [125, 216, 343]\n",
            "The last three numbers of the list are: [512, 729, 1000]\n"
          ]
        }
      ]
    }
  ]
}