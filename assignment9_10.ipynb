{
  "nbformat": 4,
  "nbformat_minor": 0,
  "metadata": {
    "colab": {
      "provenance": [],
      "authorship_tag": "ABX9TyO6oStrLNkJTjvN8mr04aDf",
      "include_colab_link": true
    },
    "kernelspec": {
      "name": "python3",
      "display_name": "Python 3"
    },
    "language_info": {
      "name": "python"
    }
  },
  "cells": [
    {
      "cell_type": "markdown",
      "metadata": {
        "id": "view-in-github",
        "colab_type": "text"
      },
      "source": [
        "<a href=\"https://colab.research.google.com/github/pperr007/pperr007/blob/main/assignment9_10.ipynb\" target=\"_parent\"><img src=\"https://colab.research.google.com/assets/colab-badge.svg\" alt=\"Open In Colab\"/></a>"
      ]
    },
    {
      "cell_type": "markdown",
      "source": [
        "#CSC221A\n",
        "- Assignment 9-10"
      ],
      "metadata": {
        "id": "yLJzKPCzI91w"
      }
    },
    {
      "cell_type": "code",
      "execution_count": null,
      "metadata": {
        "id": "EH40D3CCAZgq"
      },
      "outputs": [],
      "source": [
        "# Type in your favorite thing from Star Wars and I'll tell you mine.\n",
        "print('Favorite thing from Star Wars:')\n",
        "name = input()\n",
        "print(f\"Cool! My Favorite thing was the Dark Saber from the Clone Wars and The Mandalorian.\")"
      ]
    },
    {
      "cell_type": "markdown",
      "source": [
        "# I thought the 1 through a million range thing was hillarious. I did not want to subject you to that though so you will just get 1 though 200"
      ],
      "metadata": {
        "id": "u-Jnh4Vxnau7"
      }
    },
    {
      "cell_type": "code",
      "source": [
        "# My favorite function idea from chapter 4\n",
        "\n",
        "for number in range(1,201):\n",
        "  print(number)"
      ],
      "metadata": {
        "id": "eSbUo01nSLvl"
      },
      "execution_count": null,
      "outputs": []
    },
    {
      "cell_type": "markdown",
      "source": [
        "# I wanted to take a crack at this guessing game we had worked on in class a while ago. When I tried it, I couldn't get it to work properly and don't know where I went wrong."
      ],
      "metadata": {
        "id": "T8UO8LonnKeD"
      }
    },
    {
      "cell_type": "code",
      "source": [
        "#guessing game\n",
        "import random\n",
        "print('Welcome to guessing game!')\n",
        "num= random.randint(1,10)\n",
        "print(f\"(hint: num = {num})\")\n",
        "\n",
        "while True:\n",
        "  guess = input('Please guess a number 1-10:')\n",
        "  try:\n",
        "      if (guess) == num:\n",
        "        print(\"Good job, Keep playing if you want.\")\n",
        "\n",
        "  except:\n",
        "        print(\"Keep trying! You'll eventually get it\")\n",
        "        break"
      ],
      "metadata": {
        "id": "06gXNm4ZSs2i"
      },
      "execution_count": null,
      "outputs": []
    },
    {
      "cell_type": "markdown",
      "source": [
        "# dictionaries with motorcycles. I made a dictionary that held foreign and domestic companies."
      ],
      "metadata": {
        "id": "qLJ_sRUom2a1"
      }
    },
    {
      "cell_type": "code",
      "source": [
        "#dictionaries\n",
        "motorcycles = {'Foreign Companies':('Suzuki and Triumph'),'Domestic Companies':'Indian and Harley'}\n",
        "\n",
        "print(motorcycles['Domestic Companies'])\n",
        "print(motorcycles['Foreign Companies'])"
      ],
      "metadata": {
        "colab": {
          "base_uri": "https://localhost:8080/"
        },
        "id": "-mZjc0BJW13f",
        "outputId": "1a0b6583-185c-46f7-9ff2-d49c4f879826"
      },
      "execution_count": 24,
      "outputs": [
        {
          "output_type": "stream",
          "name": "stdout",
          "text": [
            "Indian and Harley\n",
            "Suzuki and Triumph\n"
          ]
        }
      ]
    },
    {
      "cell_type": "markdown",
      "source": [
        "#made a list of sodas and organized it"
      ],
      "metadata": {
        "id": "7rBK8kbTmh5J"
      }
    },
    {
      "cell_type": "code",
      "source": [
        "# lists\n",
        "sodas = ['Coca Cola','Pepsi','Dr Pepper','Fanta','Moxie','Sprite','ROOT BEER']\n",
        "sodas.sort()\n",
        "print(sodas)\n",
        "print(sodas[2])\n",
        "print(sodas[4])\n",
        "print(sodas[0])"
      ],
      "metadata": {
        "colab": {
          "base_uri": "https://localhost:8080/"
        },
        "id": "CrWi0duac7nA",
        "outputId": "760abce6-1780-4469-ffc9-9e9275607519"
      },
      "execution_count": 59,
      "outputs": [
        {
          "output_type": "stream",
          "name": "stdout",
          "text": [
            "['Coca Cola', 'Dr Pepper', 'Fanta', 'Moxie', 'Pepsi', 'ROOT BEER', 'Sprite']\n",
            "Fanta\n",
            "Pepsi\n",
            "Coca Cola\n"
          ]
        }
      ]
    },
    {
      "cell_type": "markdown",
      "source": [
        "#FILES not to be mistake with FLIES. I made a file with a short message on it."
      ],
      "metadata": {
        "id": "Colj2XNwmUlx"
      }
    },
    {
      "cell_type": "code",
      "source": [
        "%%file data.txt\n",
        "Hello, I hope you are having a good day.\n",
        "It is raining though.\n",
        "Good day for video games.\n",
        "Good bye."
      ],
      "metadata": {
        "colab": {
          "base_uri": "https://localhost:8080/"
        },
        "id": "Lot8Frq6ga-0",
        "outputId": "4bf527af-1317-4a3f-d777-587f7e6a3899"
      },
      "execution_count": 43,
      "outputs": [
        {
          "output_type": "stream",
          "name": "stdout",
          "text": [
            "Overwriting data.txt\n"
          ]
        }
      ]
    },
    {
      "cell_type": "code",
      "source": [
        "f1= open(\"data.txt\" , \"r\")\n",
        "\n",
        "lines = f1.readlines()\n",
        "\n",
        "print(lines)\n",
        "\n",
        "f1.close()"
      ],
      "metadata": {
        "colab": {
          "base_uri": "https://localhost:8080/"
        },
        "id": "N0Ui2Q1IhAoC",
        "outputId": "758432e9-29b3-43df-d057-444d02fab948"
      },
      "execution_count": 44,
      "outputs": [
        {
          "output_type": "stream",
          "name": "stdout",
          "text": [
            "['Hello, I hope you are having a good day.\\n', 'It is raining though.\\n', 'Good day for video games.\\n', 'Good bye.\\n']\n"
          ]
        }
      ]
    },
    {
      "cell_type": "code",
      "source": [
        "line_number =1\n",
        "for line in lines:\n",
        "  print(f\"I'm line number {line_number}: {line.strip()}\")\n",
        "  line_number = line_number + 1"
      ],
      "metadata": {
        "colab": {
          "base_uri": "https://localhost:8080/"
        },
        "id": "tAMjmkMffAiK",
        "outputId": "6d176483-9804-4113-cf3f-d19eb5a6b413"
      },
      "execution_count": 45,
      "outputs": [
        {
          "output_type": "stream",
          "name": "stdout",
          "text": [
            "I'm line number 1: Hello, I hope you are having a good day.\n",
            "I'm line number 2: It is raining though.\n",
            "I'm line number 3: Good day for video games.\n",
            "I'm line number 4: Good bye.\n"
          ]
        }
      ]
    },
    {
      "cell_type": "markdown",
      "source": [
        "#This one came to me a while ago when we worked on random numbers. I saw that we could make 6 sided dice so why not make a 20 sided die."
      ],
      "metadata": {
        "id": "m80NSRstmEO-"
      }
    },
    {
      "cell_type": "code",
      "source": [
        "\n",
        "import random\n",
        "\n",
        "def roll():\n",
        "  r = random.randint(1,20)\n",
        "  return r\n",
        "\n",
        "for i in range(1):\n",
        "  print(i,roll())\n"
      ],
      "metadata": {
        "colab": {
          "base_uri": "https://localhost:8080/"
        },
        "id": "ssSWFqchfE2t",
        "outputId": "192e153b-52f7-4b84-d032-9101289f4c7b"
      },
      "execution_count": 50,
      "outputs": [
        {
          "output_type": "stream",
          "name": "stdout",
          "text": [
            "0 13\n"
          ]
        }
      ]
    },
    {
      "cell_type": "markdown",
      "source": [
        "#This next one is supposed to sort a list of motorcycles. I had added the .append on the last one for some jazz."
      ],
      "metadata": {
        "id": "GSeYM3xPl0xC"
      }
    },
    {
      "cell_type": "code",
      "source": [
        "#SORTING\n",
        "\n",
        "motorbikes=['Triumph','Honda','Suzuki','Kawasaki','Harley','Indian']\n",
        "motorbikes.sort()\n",
        "print(motorbikes)"
      ],
      "metadata": {
        "colab": {
          "base_uri": "https://localhost:8080/"
        },
        "id": "0Yj4WcVBhi3f",
        "outputId": "6305354f-7220-4b99-eca8-034112fb79a1"
      },
      "execution_count": 57,
      "outputs": [
        {
          "output_type": "stream",
          "name": "stdout",
          "text": [
            "['Harley', 'Honda', 'Indian', 'Kawasaki', 'Suzuki', 'Triumph']\n"
          ]
        }
      ]
    },
    {
      "cell_type": "code",
      "source": [
        "motorbikes.append('Janus')\n",
        "print(motorbikes)"
      ],
      "metadata": {
        "colab": {
          "base_uri": "https://localhost:8080/"
        },
        "id": "fWi5RWgXlgdB",
        "outputId": "87fe0e30-e524-46be-8d1e-169206870db9"
      },
      "execution_count": 58,
      "outputs": [
        {
          "output_type": "stream",
          "name": "stdout",
          "text": [
            "['Harley', 'Honda', 'Indian', 'Kawasaki', 'Suzuki', 'Triumph', 'Janus']\n"
          ]
        }
      ]
    }
  ]
}